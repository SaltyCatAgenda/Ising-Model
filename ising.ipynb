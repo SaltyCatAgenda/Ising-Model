{
 "cells": [
  {
   "cell_type": "code",
   "execution_count": 1,
   "id": "d5d6189f-db21-4756-ad23-76e9a0090364",
   "metadata": {},
   "outputs": [],
   "source": [
    "import numpy as np\n",
    "import matplotlib.pyplot as plt\n",
    "import gvar as gv\n",
    "from tqdm import tqdm\n",
    "rng = np.random.default_rng()"
   ]
  },
  {
   "cell_type": "code",
   "execution_count": 2,
   "id": "7a953d70-f145-4dfa-8245-9ab0ae440cac",
   "metadata": {},
   "outputs": [],
   "source": [
    "J = 1\n",
    "nmax = 10\n",
    "N = nmax**2"
   ]
  },
  {
   "cell_type": "code",
   "execution_count": 3,
   "id": "cad0ac33-5157-48ba-9b0e-7614f8bb3505",
   "metadata": {},
   "outputs": [],
   "source": [
    "def build_lattice(n=0,m=0):    \n",
    "    #lattice = rng.choice(spin_select, (n,m), p =[0.5,0.5])    \n",
    "    return rng.choice([-1,1], (nmax,nmax), p =[0.5,0.5])"
   ]
  },
  {
   "cell_type": "code",
   "execution_count": 4,
   "id": "08cf6592-98cb-45f5-bc6f-5f4c956cdaae",
   "metadata": {},
   "outputs": [],
   "source": [
    "def Energy(lattice:np.ndarray)->float:\n",
    "    spin_bonds = 0\n",
    "    for i in range(nmax):\n",
    "        for j in range(nmax):\n",
    "            s_ij = lattice[i,j]\n",
    "            if j<nmax-1:\n",
    "                s_right = lattice[i, j+1] #right neighbor\n",
    "            else:\n",
    "                s_right = 0 #right edge of lattice\n",
    "            if i<nmax-1:\n",
    "                s_down = lattice[i+1,j] #bottom neighbor\n",
    "            else:\n",
    "                s_down = 0 # bottom edge of lattice\n",
    "            spin_bonds += s_ij * (s_right + s_down)\n",
    "    \n",
    "    E = (-J) * spin_bonds/N\n",
    "    return E"
   ]
  },
  {
   "cell_type": "code",
   "execution_count": 5,
   "id": "829b27be-e905-433c-97a4-93d3f792e4c4",
   "metadata": {},
   "outputs": [],
   "source": [
    "def new_energy(lattice:np.ndarray)->float:\n",
    "    return -J/N * ( np.sum( lattice[0:nmax-1,:] * lattice[1:nmax,:] ) + np.sum( lattice[:,0:nmax-1] * lattice[:,1:nmax] ) )"
   ]
  },
  {
   "cell_type": "code",
   "execution_count": 6,
   "id": "07e5413f-9fe2-4632-9d1c-0385a5a3b1f0",
   "metadata": {},
   "outputs": [],
   "source": [
    "def flip_energy(lattice:np.ndarray, flip_location:tuple)->float:\n",
    "    i,j = flip_location\n",
    "    s_ij = lattice[i,j]\n",
    "    \n",
    "    s_up = lattice[abs(i-1),j] * (i!=0)\n",
    "    s_down = lattice[(i+1)%nmax,j] * (i!=nmax)   \n",
    "    s_left = lattice[i,abs(j-1)] * (j!=0)\n",
    "    s_right = lattice[i,(j+1)%nmax] * (j!=nmax)\n",
    "   \n",
    "    neighbors = (s_up + s_down + s_left + s_right)\n",
    "    flipped_sum = -1 * s_ij * neighbors  # flips the spin\n",
    "    initial_sum = s_ij * neighbors\n",
    "    return (-J) * (flipped_sum - initial_sum) /N"
   ]
  },
  {
   "cell_type": "code",
   "execution_count": 7,
   "id": "96d027bd-bc27-4259-8e3f-db2618d78747",
   "metadata": {},
   "outputs": [],
   "source": [
    "def magnetization(lattice:np.ndarray)->float:\n",
    "    return lattice.sum()/N"
   ]
  },
  {
   "cell_type": "code",
   "execution_count": 8,
   "id": "3a4f278e-a413-48ad-a3a1-9c5c4711960c",
   "metadata": {},
   "outputs": [
    {
     "name": "stdout",
     "output_type": "stream",
     "text": [
      "0\n",
      "1\n",
      "2\n",
      "3\n",
      "4\n"
     ]
    }
   ],
   "source": [
    "for a in range(5):\n",
    "    print(a)\n",
    "    #print(b)"
   ]
  },
  {
   "cell_type": "code",
   "execution_count": 9,
   "id": "7ece54b0-912f-43cb-8616-9821b2721282",
   "metadata": {},
   "outputs": [
    {
     "data": {
      "text/plain": [
       "range(5, 2)"
      ]
     },
     "execution_count": 9,
     "metadata": {},
     "output_type": "execute_result"
    }
   ],
   "source": [
    "range(5,2)"
   ]
  },
  {
   "cell_type": "code",
   "execution_count": 10,
   "id": "daa87efa-515d-413f-a3ce-1cb258c36bf2",
   "metadata": {},
   "outputs": [
    {
     "data": {
      "text/plain": [
       "0.8333333333333334"
      ]
     },
     "execution_count": 10,
     "metadata": {},
     "output_type": "execute_result"
    }
   ],
   "source": [
    "10/12"
   ]
  },
  {
   "cell_type": "code",
   "execution_count": 8,
   "id": "83ad00a3-58a1-49ec-ab83-093168256ede",
   "metadata": {},
   "outputs": [],
   "source": [
    "def spin_corr(lattice:np.ndarray)->float:\n",
    "    si = magnetization(lattice)\n",
    "    sisj = np.array([])\n",
    "    dist = np.array([])\n",
    "    counts = np.array([])\n",
    "    for xi in range(len(lattice)):\n",
    "        for yi in range(len(lattice)):\n",
    "            for xj in range(len(lattice)):\n",
    "                for yj in range(len(lattice)):\n",
    "                    distance = np.sqrt((xi-xj)**2 + (yi-yj)**2)\n",
    "                    if distance>0:\n",
    "                        if distance not in dist:\n",
    "                            dist = np.append(dist,distance)\n",
    "                            sisj = np.append(sisj, lattice[xi,yi] * lattice[xj,yj])\n",
    "                            counts = np.append(counts, 1)\n",
    "                        else:\n",
    "                            index = np.where(dist == distance)[0][0]\n",
    "                            counts[index] += 1\n",
    "                            sisj[index] += lattice[xi,yi] * lattice[xj,yj]\n",
    "    \n",
    "                            \n",
    "                        \n",
    "        # need to average sisj, but not sure how to get distances to be relevant\n",
    "    return dist, sisj/counts #-si**2\n",
    "    #return sisj/N - si**2  # averages <Sij * Sab> over whole array... returns 1 value per MC step, probably wrong."
   ]
  },
  {
   "cell_type": "code",
   "execution_count": 103,
   "id": "0b7f3416-f00f-4ebd-9313-54216857d377",
   "metadata": {
    "scrolled": true,
    "tags": []
   },
   "outputs": [
    {
     "name": "stdout",
     "output_type": "stream",
     "text": [
      "1.0\n",
      "2.0\n",
      "3.0\n",
      "4.0\n",
      "5.0\n",
      "6.0\n",
      "1.4142135623730951\n",
      "2.23606797749979\n",
      "3.1622776601683795\n",
      "4.123105625617661\n",
      "5.0990195135927845\n",
      "6.082762530298219\n",
      "2.8284271247461903\n",
      "3.605551275463989\n",
      "4.47213595499958\n",
      "5.385164807134504\n",
      "6.324555320336759\n",
      "4.242640687119285\n",
      "5.830951894845301\n",
      "6.708203932499369\n",
      "5.656854249492381\n",
      "6.4031242374328485\n",
      "7.211102550927978\n",
      "7.0710678118654755\n",
      "7.810249675906654\n",
      "8.48528137423857\n"
     ]
    }
   ],
   "source": [
    "x, y = spin_corr(build_lattice())"
   ]
  },
  {
   "cell_type": "code",
   "execution_count": 59,
   "id": "c85e2f8d-7981-4fcd-8672-18bd9bbe6f03",
   "metadata": {},
   "outputs": [
    {
     "data": {
      "text/plain": [
       "[<matplotlib.lines.Line2D at 0x208e0704430>]"
      ]
     },
     "execution_count": 59,
     "metadata": {},
     "output_type": "execute_result"
    },
    {
     "data": {
      "image/png": "[encoded data removed]",
      "text/plain": [
       "<Figure size 432x288 with 1 Axes>"
      ]
     },
     "metadata": {
      "needs_background": "light"
     },
     "output_type": "display_data"
    }
   ],
   "source": [
    "plt.plot(x,y, 'ro')"
   ]
  },
  {
   "cell_type": "code",
   "execution_count": null,
   "id": "987e4835-e10d-4626-973e-940d8a3a896a",
   "metadata": {},
   "outputs": [],
   "source": []
  },
  {
   "cell_type": "code",
   "execution_count": 9,
   "id": "b58e68cf-5130-4626-b5ce-2b3f5fb6a011",
   "metadata": {},
   "outputs": [],
   "source": [
    "def mcmc(lattice, beta, nflips, nsteps):\n",
    "    lattice = lattice.copy()\n",
    "    energy = Energy(lattice)\n",
    "    av_energy = np.zeros(nsteps)\n",
    "    av_mag = np.zeros(nsteps)\n",
    "    for step in range(nsteps):\n",
    "        for flip in range(nflips):\n",
    "            flip_location = tuple(rng.integers(len(lattice),size=2))\n",
    "            flip_dE = flip_energy(lattice,flip_location)\n",
    "            if (np.exp(-beta*flip_dE)>rng.random()):\n",
    "                lattice[flip_location] = -1 * lattice[flip_location]\n",
    "                energy += flip_dE              \n",
    "        # record energy and magnetization\n",
    "        av_energy[step] = energy\n",
    "        av_mag[step] = magnetization(lattice)\n",
    "        \n",
    "    return av_energy, av_mag"
   ]
  },
  {
   "cell_type": "code",
   "execution_count": 10,
   "id": "6b74cb74-ef22-4d11-8093-b44a7e1d6144",
   "metadata": {},
   "outputs": [],
   "source": [
    "def wolff(lattice, beta):\n",
    "    N = len(lattice)\n",
    "    i, j = rng.integers(N), rng.integers(N)\n",
    "    S = lattice[i,j]\n",
    "    C = [[i,j]]\n",
    "    F_old = [[i,j]]\n",
    "    p_accept = 1. - np.exp(-2 * beta)\n",
    "    while len(F_old) > 0:\n",
    "        F_new = []\n",
    "        for i,j in F_old:\n",
    "            neighbours = [[(i+1) % N,j], [(i-1+N) % N,j], [i,(j+1) % N], [i,(j-1+N) % N]]\n",
    "            for neighbour in neighbours:\n",
    "                if lattice[neighbour[0],neighbour[1]] == S and neighbour not in C:\n",
    "                    if rng.random() < p_accept:\n",
    "                        F_new.append(neighbour)\n",
    "                        C.append(neighbour)\n",
    "        F_old = F_new\n",
    "    for i,j in C:\n",
    "        lattice[i,j] *= -1"
   ]
  },
  {
   "cell_type": "code",
   "execution_count": 11,
   "id": "fa2090e9-e820-41c0-87aa-2713b25ae2d4",
   "metadata": {},
   "outputs": [],
   "source": [
    "def imported_wolff(lattice,beta,nsteps):\n",
    "    measure_step = nsteps/1000\n",
    "    av_energy = np.zeros(int(nsteps/measure_step))\n",
    "    av_mag = np.zeros(int(nsteps/measure_step))\n",
    "    #av_sscorr = np.zeros(int(nsteps/measure_step))\n",
    "    #av_sscorr = np.zeros(int(nsteps/measure_step))\n",
    "    for i in range(nsteps):\n",
    "        wolff(lattice,beta)\n",
    "        if i%measure_step ==0:\n",
    "            av_energy[int(i/measure_step)]=new_energy(lattice)\n",
    "            av_mag[int(i/measure_step)]=magnetization(lattice)\n",
    "            distance, y =spin_corr(lattice)\n",
    "            if int(i/measure_step) == 0:\n",
    "                av_sscorr = np.zeros((int(nsteps/measure_step), len(y)))\n",
    "            av_sscorr[int(i/measure_step)][:] = y\n",
    "            #print((i/measure_step)/nsteps)\n",
    "    return av_energy, av_mag, distance, av_sscorr\n",
    "    #return av_mag"
   ]
  },
  {
   "cell_type": "code",
   "execution_count": null,
   "id": "d008ed0e-af2e-4085-b926-27ea3252d3c7",
   "metadata": {},
   "outputs": [],
   "source": []
  },
  {
   "cell_type": "code",
   "execution_count": 209,
   "id": "26b89a06-14a6-4751-a9c0-3811373c2553",
   "metadata": {
    "scrolled": true,
    "tags": []
   },
   "outputs": [],
   "source": [
    "ew,mw,d,ssc = imported_wolff(build_lattice(), 0.20, 10**4)"
   ]
  },
  {
   "cell_type": "code",
   "execution_count": 210,
   "id": "43a09dfe-f303-4c0f-8ae4-4436f472c3b9",
   "metadata": {},
   "outputs": [
    {
     "data": {
      "text/plain": [
       "1000"
      ]
     },
     "execution_count": 210,
     "metadata": {},
     "output_type": "execute_result"
    }
   ],
   "source": [
    "len(ew)"
   ]
  },
  {
   "cell_type": "code",
   "execution_count": 133,
   "id": "7f640508-5acb-4e94-aac0-5a1820143651",
   "metadata": {},
   "outputs": [
    {
     "data": {
      "text/plain": [
       "array([[-0.06666667,  0.025     ,  0.02857143, ..., -0.25      ,\n",
       "         0.        ,  0.        ],\n",
       "       [ 0.45555556,  0.3125    ,  0.34285714, ...,  0.75      ,\n",
       "         0.75      ,  1.        ],\n",
       "       [ 0.48888889,  0.2375    ,  0.18571429, ...,  1.        ,\n",
       "         1.        ,  1.        ],\n",
       "       ...,\n",
       "       [ 0.23333333,  0.1625    , -0.12857143, ..., -0.5       ,\n",
       "         0.        , -1.        ],\n",
       "       [ 0.47777778,  0.3       ,  0.24285714, ...,  0.        ,\n",
       "         0.25      ,  0.        ],\n",
       "       [ 0.35555556,  0.1375    , -0.1       , ..., -0.5       ,\n",
       "        -0.25      ,  1.        ]])"
      ]
     },
     "execution_count": 133,
     "metadata": {},
     "output_type": "execute_result"
    }
   ],
   "source": [
    "ssc"
   ]
  },
  {
   "cell_type": "code",
   "execution_count": 125,
   "id": "aed39391-0e72-40e8-bd48-e3e46284543e",
   "metadata": {},
   "outputs": [
    {
     "data": {
      "text/plain": [
       "[<matplotlib.lines.Line2D at 0x208e0b98ee0>]"
      ]
     },
     "execution_count": 125,
     "metadata": {},
     "output_type": "execute_result"
    },
    {
     "data": {
      "image/png": "[encoded data removed]",
      "text/plain": [
       "<Figure size 432x288 with 1 Axes>"
      ]
     },
     "metadata": {
      "needs_background": "light"
     },
     "output_type": "display_data"
    }
   ],
   "source": [
    "plt.plot(d,[np.mean(ssc[:][i]) for i in range(len(ssc[0][:]))] , 'ro')"
   ]
  },
  {
   "cell_type": "code",
   "execution_count": 118,
   "id": "6102f89c-3cbd-47e1-bd0d-fd96b07020ab",
   "metadata": {},
   "outputs": [],
   "source": [
    "observables = {'Energy':ew,'M':mw, \"M2\":mw**2}\n",
    "obs_average = gv.dataset.avg_data(observables)\n",
    "corr = gv.evalcorr(obs_average)"
   ]
  },
  {
   "cell_type": "code",
   "execution_count": 189,
   "id": "0d6b2988-2cfb-459c-86a7-36f854c70ca7",
   "metadata": {},
   "outputs": [
    {
     "data": {
      "text/plain": [
       "0.00023787865756889684"
      ]
     },
     "execution_count": 189,
     "metadata": {},
     "output_type": "execute_result"
    }
   ],
   "source": [
    "obs_average['Energy'].sdev/N"
   ]
  },
  {
   "cell_type": "code",
   "execution_count": 156,
   "id": "bed019cb-3f44-4476-a22a-18ec8d80d8ea",
   "metadata": {},
   "outputs": [
    {
     "data": {
      "text/plain": [
       "BufferDict({('Energy', 'Energy'): array([[1.]]), ('Energy', 'M'): array([[0.05133208]]), ('Energy', 'M2'): array([[-0.62352633]]), ('M', 'Energy'): array([[0.05133208]]), ('M', 'M'): array([[1.]]), ('M', 'M2'): array([[-0.20085566]]), ('M2', 'Energy'): array([[-0.62352633]]), ('M2', 'M'): array([[-0.20085566]]), ('M2', 'M2'): array([[1.]])})"
      ]
     },
     "execution_count": 156,
     "metadata": {},
     "output_type": "execute_result"
    }
   ],
   "source": [
    "corr"
   ]
  },
  {
   "cell_type": "code",
   "execution_count": 106,
   "id": "bf77942d-bdc3-4896-87a2-7c7822b4faa5",
   "metadata": {},
   "outputs": [
    {
     "data": {
      "text/plain": [
       "0.004700194735918455"
      ]
     },
     "execution_count": 106,
     "metadata": {},
     "output_type": "execute_result"
    }
   ],
   "source": [
    "mw.std()/30"
   ]
  },
  {
   "cell_type": "code",
   "execution_count": 108,
   "id": "f023bca8-d33a-4f34-bd94-f396314476cc",
   "metadata": {},
   "outputs": [
    {
     "data": {
      "text/plain": [
       "0.003546442270470193"
      ]
     },
     "execution_count": 108,
     "metadata": {},
     "output_type": "execute_result"
    }
   ],
   "source": [
    "ew.std()/30"
   ]
  },
  {
   "cell_type": "code",
   "execution_count": 20,
   "id": "99120c63-71c6-43c6-bcb7-f7c33c9816f1",
   "metadata": {
    "collapsed": true,
    "jupyter": {
     "outputs_hidden": true
    },
    "tags": []
   },
   "outputs": [
    {
     "data": {
      "text/plain": [
       "array([ 1.00000000e+00,  7.05721120e-01,  5.05160700e-01,  3.66424127e-01,\n",
       "        2.48009836e-01,  1.58553513e-01,  8.88167169e-02,  7.13910880e-02,\n",
       "        7.19767034e-02,  6.74146166e-02,  6.31524791e-02,  4.81435849e-02,\n",
       "        6.11013969e-02,  5.38683325e-02,  4.23702740e-02,  2.89182598e-02,\n",
       "        2.15652157e-02,  2.50503415e-02,  3.63884270e-02,  3.54400157e-02,\n",
       "        3.44573245e-02,  4.43727931e-02,  5.97387698e-02,  4.95119253e-02,\n",
       "        3.59713546e-02,  2.27450165e-02,  1.12412447e-02,  1.61604141e-02,\n",
       "        1.84657391e-02, -2.23933616e-03, -5.30167620e-03, -1.77195794e-02,\n",
       "       -3.28513100e-02, -2.16874808e-02, -8.81822527e-03, -1.85080176e-02,\n",
       "       -2.77693110e-02, -3.06316848e-02, -4.04528835e-02, -1.48086423e-02,\n",
       "       -2.64212529e-03,  3.46541484e-03,  4.35557882e-02,  4.97176048e-02,\n",
       "        4.04820215e-02,  2.71042804e-02, -2.35931590e-03, -3.41625171e-02,\n",
       "       -3.53394613e-02, -4.31609977e-02, -4.57434188e-02, -4.35523602e-02,\n",
       "       -1.59741598e-02, -8.54684252e-03, -7.60414456e-03,  3.63541471e-02,\n",
       "        8.25177806e-02,  6.68718511e-02,  4.23559907e-02,  2.13366829e-02,\n",
       "        2.39416716e-03, -1.64483654e-02, -3.52794714e-02, -6.04180837e-02,\n",
       "       -7.41357674e-02, -5.98324683e-02, -6.28662417e-02, -5.20823484e-02,\n",
       "       -4.52063666e-02, -6.66884535e-02, -6.85195728e-02, -4.72174556e-02,\n",
       "       -6.93994243e-02, -2.67780498e-02,  9.41583864e-03,  3.50286566e-02,\n",
       "        3.81566998e-02,  1.98969260e-02,  1.12098214e-02,  6.28208208e-03,\n",
       "       -8.06406690e-03, -4.55323115e-03, -5.75588522e-03,  1.64232268e-02,\n",
       "        2.36420079e-02,  3.92279475e-02,  5.58737082e-02,  6.24154607e-02,\n",
       "        4.92205459e-02,  3.13921278e-02,  1.64146568e-02,  1.70745454e-02,\n",
       "       -2.45644236e-03,  1.54776722e-02,  7.08766034e-03,  3.03780133e-02,\n",
       "        2.60587427e-02,  2.54302773e-02,  3.31718273e-02,  2.46532657e-02,\n",
       "       -2.48640872e-02, -6.06237632e-02, -9.96857388e-02, -1.43415498e-01,\n",
       "       -1.47094876e-01, -1.37285104e-01, -1.48957419e-01, -1.33574302e-01,\n",
       "       -1.30626229e-01, -1.29152192e-01, -8.52624600e-02, -4.23668461e-02,\n",
       "        3.82535406e-03,  7.41617630e-03,  1.69117158e-02,  1.41264718e-02,\n",
       "       -5.01601015e-03, -4.96484736e-02, -5.64530389e-02, -6.82996100e-02,\n",
       "       -8.86847392e-02, -9.42438005e-02, -9.58892370e-02, -7.77665828e-02,\n",
       "       -8.67479234e-02, -9.52693417e-02, -9.24612444e-02, -9.92915196e-02,\n",
       "       -6.62570977e-02, -3.02574622e-02, -1.87451205e-02, -7.68127439e-03,\n",
       "       -2.32700707e-02, -4.31667110e-02, -7.43757268e-02, -6.51344302e-02,\n",
       "       -4.26553688e-02, -4.39151560e-02, -3.13629898e-02, -2.53468629e-02,\n",
       "       -2.36242966e-02, -8.83536523e-03, -2.21988230e-02, -3.96530186e-02,\n",
       "       -4.39408660e-02, -4.50778169e-02, -3.26027805e-02, -2.49754970e-02,\n",
       "       -1.05579315e-02,  1.40207753e-02,  2.67243445e-02,  3.05436996e-02,\n",
       "        2.97609746e-02,  1.79543968e-02,  1.03185434e-02,  2.09481770e-02,\n",
       "        2.15623590e-02,  2.28678529e-02,  2.31306657e-02,  1.42464515e-02,\n",
       "        4.57468467e-02,  2.82983645e-02,  3.02380369e-02,  2.61015926e-02,\n",
       "        2.35934446e-02,  3.05948338e-04,  7.24192001e-03,  7.42474628e-03,\n",
       "        9.68150807e-03,  2.65100950e-02,  4.48841353e-02,  6.29525129e-02,\n",
       "        7.88326885e-02,  1.04365520e-01,  1.24604960e-01,  1.17220492e-01,\n",
       "        8.79368655e-02,  6.52521246e-02,  5.13601846e-02,  1.16640304e-02,\n",
       "       -1.24461841e-02,  8.99876621e-03,  1.28781112e-02,  9.25843665e-04,\n",
       "       -1.36459815e-02, -5.53592236e-03,  1.92656040e-02,  1.33894534e-02,\n",
       "       -1.91367686e-03, -1.51257316e-02, -8.86107517e-03,  4.37354721e-04,\n",
       "       -7.60700122e-03, -1.66797549e-02, -4.91257048e-02, -6.90280584e-02,\n",
       "       -5.33478490e-02, -1.96963884e-02, -1.93967247e-04,  1.62204039e-02,\n",
       "        2.80098418e-02,  1.07127625e-02, -1.69768476e-02, -1.30803627e-02,\n",
       "       -2.18588804e-02, -1.76424495e-02, -3.26913370e-02, -3.66849483e-02,\n",
       "       -6.08208728e-02, -6.80539372e-02, -9.06729749e-02, -9.97542986e-02,\n",
       "       -1.02191030e-01, -1.10129690e-01, -1.18488278e-01, -1.30554812e-01,\n",
       "       -1.24990037e-01, -1.12880654e-01, -1.32977260e-01, -1.16817132e-01,\n",
       "       -8.84562064e-02, -5.20252152e-02, -1.22776411e-02,  2.51703212e-02,\n",
       "        5.52852361e-02,  5.72049120e-02,  7.77557275e-02,  6.62176758e-02,\n",
       "        5.64993168e-02,  4.27530666e-02,  2.53617175e-02,  5.92214286e-03,\n",
       "       -2.70751425e-02, -1.63141024e-02, -9.39812734e-03,  4.75948204e-03,\n",
       "       -5.39880266e-03, -2.34243303e-02, -3.66449551e-02, -6.67884366e-02,\n",
       "       -5.04369119e-02, -3.07745178e-02,  7.35618643e-03,  3.78681771e-02,\n",
       "        6.08328708e-02,  8.06923745e-02,  7.60188780e-02,  6.98142114e-02,\n",
       "        8.70027375e-02,  8.76826227e-02,  5.68678260e-02,  6.09271406e-02,\n",
       "        4.52812111e-02,  3.74311081e-02,  3.76739242e-02,  4.47327323e-02,\n",
       "        3.76596409e-02,  2.24850604e-02,  1.91341976e-02,  3.47112816e-03,\n",
       "       -1.67854514e-02, -2.81863834e-02, -4.38037463e-02, -5.40105942e-02,\n",
       "       -6.02438274e-02, -6.15921712e-02, -4.03614704e-02, -3.71248741e-02,\n",
       "       -2.17474706e-02, -2.36757165e-02, -3.55337142e-02, -6.55457893e-02,\n",
       "       -5.85669677e-02, -5.75557099e-02, -5.07368613e-02, -3.94016325e-02,\n",
       "       -2.04648301e-02, -1.75910296e-02,  8.66453693e-03,  4.29955970e-03,\n",
       "        1.07841790e-02,  6.48204832e-03,  9.37584539e-03,  1.98597894e-02,\n",
       "        4.05103024e-03,  1.96969597e-02,  1.94512869e-02,  3.93676382e-03,\n",
       "        7.78468550e-03, -1.39602141e-02, -3.01974724e-02, -4.33581072e-02,\n",
       "       -6.52972598e-02, -7.80836722e-02, -7.56269441e-02, -8.81705403e-02,\n",
       "       -6.90994749e-02, -2.00877509e-02, -4.15329869e-03, -3.05859782e-02,\n",
       "       -2.93547575e-02, -1.29975196e-02, -1.25093163e-03, -1.98477914e-02,\n",
       "       -2.75750580e-02, -5.65530220e-02, -8.41312224e-02, -1.02873772e-01,\n",
       "       -1.12057935e-01, -9.82545519e-02, -3.99729646e-02,  3.43687680e-02,\n",
       "        9.43529250e-02,  1.13184031e-01,  1.18568836e-01,  1.33426327e-01,\n",
       "        1.17317619e-01,  8.15779393e-02,  4.81950048e-02,  5.09316855e-02,\n",
       "        4.69123642e-02,  5.53823626e-02,  7.57589219e-02,  8.12379967e-02,\n",
       "        5.44510913e-02,  9.07875270e-03, -2.51754632e-02, -3.89817034e-02,\n",
       "       -3.21828514e-02, -3.87817371e-02, -5.00826860e-02, -3.09316341e-02,\n",
       "       -3.94530524e-02, -2.59953248e-02, -3.43627690e-03,  2.78041622e-02,\n",
       "        4.61953424e-02,  6.83487445e-02,  9.26360720e-02,  1.06633708e-01,\n",
       "        1.14435248e-01,  1.08087749e-01,  1.20497082e-01,  1.23156633e-01,\n",
       "        1.11484318e-01,  9.68896395e-02,  6.46065193e-02,  3.71911486e-02,\n",
       "        2.87268635e-02,  1.14069310e-02, -1.20808172e-03, -1.78024225e-02,\n",
       "       -2.53125829e-02,  2.39702382e-03, -2.38499728e-02, -4.21840198e-02,\n",
       "       -3.97501450e-02, -4.88086155e-02, -5.45733563e-02, -2.30929577e-02,\n",
       "       -2.90776615e-02, -3.93130760e-02, -5.43333968e-02, -3.72762771e-02,\n",
       "       -2.37242797e-02, -3.76479286e-03, -1.85822908e-02, -1.76453062e-02,\n",
       "       -2.61095912e-02, -2.12989749e-02, -2.63095574e-02,  1.40322020e-02,\n",
       "        3.62455940e-02,  6.23011943e-02,  5.70935022e-02,  2.88811232e-02,\n",
       "       -4.28184841e-03, -5.24739965e-03, -1.31092150e-03,  5.92499952e-03,\n",
       "       -9.82091310e-03, -1.30946460e-02, -1.78681257e-02, -2.75893413e-02,\n",
       "       -5.37677781e-02, -9.71347410e-02, -1.01396878e-01, -8.86818826e-02,\n",
       "       -9.13557168e-02, -9.58349604e-02, -8.66850769e-02, -6.93622877e-02,\n",
       "       -7.42128972e-02, -6.71626591e-02, -4.21211733e-02,  3.14546887e-03,\n",
       "        5.27256683e-02,  8.08094976e-02,  9.37615963e-02,  1.00694711e-01,\n",
       "        8.68170546e-02,  7.69587193e-02,  5.42654083e-02,  3.22091327e-02,\n",
       "        1.08555955e-02, -1.41916036e-02, -2.72408288e-02, -3.84703611e-02,\n",
       "       -2.09676023e-02,  2.99980775e-02,  3.20577297e-02,  6.19898183e-02,\n",
       "        7.56360854e-02,  6.32696022e-02,  3.45258843e-02,  1.19525532e-02,\n",
       "        3.40828163e-03,  4.61093570e-03, -9.28386093e-03, -1.76824428e-02,\n",
       "       -2.17274740e-02, -2.94778796e-03, -1.79395422e-02, -2.00591843e-02,\n",
       "        1.35751363e-02,  3.80167235e-02,  8.17550522e-02,  1.12878368e-01,\n",
       "        1.18340303e-01,  1.46047053e-01,  1.56062505e-01,  1.16312074e-01,\n",
       "        7.94097340e-02,  6.22440611e-02,  6.37409512e-02,  5.17943970e-02,\n",
       "        2.46732623e-02, -2.59124816e-02, -3.48852522e-02, -3.34426387e-02,\n",
       "       -2.35928733e-02, -3.99386846e-02, -4.73288653e-02, -4.73945685e-02,\n",
       "       -7.00964494e-02, -9.62377496e-02, -1.16702865e-01, -9.88373106e-02,\n",
       "       -1.05873265e-01, -1.19745209e-01, -1.08918465e-01, -7.96291255e-02,\n",
       "       -2.81978100e-02, -1.59655898e-02, -7.92123387e-03, -3.06916746e-02,\n",
       "       -5.30307597e-02, -6.28748117e-02, -7.30702330e-02, -9.66262554e-02,\n",
       "       -9.60749199e-02, -1.03707917e-01, -1.20413667e-01, -1.29846360e-01,\n",
       "       -1.35219739e-01, -1.48600336e-01, -1.39810392e-01, -1.22550449e-01,\n",
       "       -8.51424802e-02, -2.60467447e-02,  1.57433416e-02,  6.41837335e-02,\n",
       "        1.00557592e-01,  1.05933827e-01,  1.04756882e-01,  9.38958593e-02,\n",
       "        6.93485757e-02,  6.65890417e-02,  4.28958996e-02,  5.38397659e-02,\n",
       "        4.35615015e-02,  1.15183408e-02, -7.88124062e-03, -1.36345549e-02,\n",
       "        1.43121547e-02,  4.07534042e-02,  7.05112365e-02,  6.79802353e-02,\n",
       "        5.92102876e-02,  4.23445641e-02,  2.09024705e-02, -5.27310960e-03,\n",
       "       -3.22171313e-02, -6.73569120e-02, -5.32450092e-02, -2.65609436e-02,\n",
       "       -1.91939018e-03,  5.00229818e-03, -1.54085410e-02, -2.71808389e-02,\n",
       "       -9.40669733e-03, -2.71808389e-02, -1.54085410e-02,  5.00229818e-03,\n",
       "       -1.91939018e-03, -2.65609436e-02, -5.32450092e-02, -6.73569120e-02,\n",
       "       -3.22171313e-02, -5.27310960e-03,  2.09024705e-02,  4.23445641e-02,\n",
       "        5.92102876e-02,  6.79802353e-02,  7.05112365e-02,  4.07534042e-02,\n",
       "        1.43121547e-02, -1.36345549e-02, -7.88124062e-03,  1.15183408e-02,\n",
       "        4.35615015e-02,  5.38397659e-02,  4.28958996e-02,  6.65890417e-02,\n",
       "        6.93485757e-02,  9.38958593e-02,  1.04756882e-01,  1.05933827e-01,\n",
       "        1.00557592e-01,  6.41837335e-02,  1.57433416e-02, -2.60467447e-02,\n",
       "       -8.51424802e-02, -1.22550449e-01, -1.39810392e-01, -1.48600336e-01,\n",
       "       -1.35219739e-01, -1.29846360e-01, -1.20413667e-01, -1.03707917e-01,\n",
       "       -9.60749199e-02, -9.66262554e-02, -7.30702330e-02, -6.28748117e-02,\n",
       "       -5.30307597e-02, -3.06916746e-02, -7.92123387e-03, -1.59655898e-02,\n",
       "       -2.81978100e-02, -7.96291255e-02, -1.08918465e-01, -1.19745209e-01,\n",
       "       -1.05873265e-01, -9.88373106e-02, -1.16702865e-01, -9.62377496e-02,\n",
       "       -7.00964494e-02, -4.73945685e-02, -4.73288653e-02, -3.99386846e-02,\n",
       "       -2.35928733e-02, -3.34426387e-02, -3.48852522e-02, -2.59124816e-02,\n",
       "        2.46732623e-02,  5.17943970e-02,  6.37409512e-02,  6.22440611e-02,\n",
       "        7.94097340e-02,  1.16312074e-01,  1.56062505e-01,  1.46047053e-01,\n",
       "        1.18340303e-01,  1.12878368e-01,  8.17550522e-02,  3.80167235e-02,\n",
       "        1.35751363e-02, -2.00591843e-02, -1.79395422e-02, -2.94778796e-03,\n",
       "       -2.17274740e-02, -1.76824428e-02, -9.28386093e-03,  4.61093570e-03,\n",
       "        3.40828163e-03,  1.19525532e-02,  3.45258843e-02,  6.32696022e-02,\n",
       "        7.56360854e-02,  6.19898183e-02,  3.20577297e-02,  2.99980775e-02,\n",
       "       -2.09676023e-02, -3.84703611e-02, -2.72408288e-02, -1.41916036e-02,\n",
       "        1.08555955e-02,  3.22091327e-02,  5.42654083e-02,  7.69587193e-02,\n",
       "        8.68170546e-02,  1.00694711e-01,  9.37615963e-02,  8.08094976e-02,\n",
       "        5.27256683e-02,  3.14546887e-03, -4.21211733e-02, -6.71626591e-02,\n",
       "       -7.42128972e-02, -6.93622877e-02, -8.66850769e-02, -9.58349604e-02,\n",
       "       -9.13557168e-02, -8.86818826e-02, -1.01396878e-01, -9.71347410e-02,\n",
       "       -5.37677781e-02, -2.75893413e-02, -1.78681257e-02, -1.30946460e-02,\n",
       "       -9.82091310e-03,  5.92499952e-03, -1.31092150e-03, -5.24739965e-03,\n",
       "       -4.28184841e-03,  2.88811232e-02,  5.70935022e-02,  6.23011943e-02,\n",
       "        3.62455940e-02,  1.40322020e-02, -2.63095574e-02, -2.12989749e-02,\n",
       "       -2.61095912e-02, -1.76453062e-02, -1.85822908e-02, -3.76479286e-03,\n",
       "       -2.37242797e-02, -3.72762771e-02, -5.43333968e-02, -3.93130760e-02,\n",
       "       -2.90776615e-02, -2.30929577e-02, -5.45733563e-02, -4.88086155e-02,\n",
       "       -3.97501450e-02, -4.21840198e-02, -2.38499728e-02,  2.39702382e-03,\n",
       "       -2.53125829e-02, -1.78024225e-02, -1.20808172e-03,  1.14069310e-02,\n",
       "        2.87268635e-02,  3.71911486e-02,  6.46065193e-02,  9.68896395e-02,\n",
       "        1.11484318e-01,  1.23156633e-01,  1.20497082e-01,  1.08087749e-01,\n",
       "        1.14435248e-01,  1.06633708e-01,  9.26360720e-02,  6.83487445e-02,\n",
       "        4.61953424e-02,  2.78041622e-02, -3.43627690e-03, -2.59953248e-02,\n",
       "       -3.94530524e-02, -3.09316341e-02, -5.00826860e-02, -3.87817371e-02,\n",
       "       -3.21828514e-02, -3.89817034e-02, -2.51754632e-02,  9.07875270e-03,\n",
       "        5.44510913e-02,  8.12379967e-02,  7.57589219e-02,  5.53823626e-02,\n",
       "        4.69123642e-02,  5.09316855e-02,  4.81950048e-02,  8.15779393e-02,\n",
       "        1.17317619e-01,  1.33426327e-01,  1.18568836e-01,  1.13184031e-01,\n",
       "        9.43529250e-02,  3.43687680e-02, -3.99729646e-02, -9.82545519e-02,\n",
       "       -1.12057935e-01, -1.02873772e-01, -8.41312224e-02, -5.65530220e-02,\n",
       "       -2.75750580e-02, -1.98477914e-02, -1.25093163e-03, -1.29975196e-02,\n",
       "       -2.93547575e-02, -3.05859782e-02, -4.15329869e-03, -2.00877509e-02,\n",
       "       -6.90994749e-02, -8.81705403e-02, -7.56269441e-02, -7.80836722e-02,\n",
       "       -6.52972598e-02, -4.33581072e-02, -3.01974724e-02, -1.39602141e-02,\n",
       "        7.78468550e-03,  3.93676382e-03,  1.94512869e-02,  1.96969597e-02,\n",
       "        4.05103024e-03,  1.98597894e-02,  9.37584539e-03,  6.48204832e-03,\n",
       "        1.07841790e-02,  4.29955970e-03,  8.66453693e-03, -1.75910296e-02,\n",
       "       -2.04648301e-02, -3.94016325e-02, -5.07368613e-02, -5.75557099e-02,\n",
       "       -5.85669677e-02, -6.55457893e-02, -3.55337142e-02, -2.36757165e-02,\n",
       "       -2.17474706e-02, -3.71248741e-02, -4.03614704e-02, -6.15921712e-02,\n",
       "       -6.02438274e-02, -5.40105942e-02, -4.38037463e-02, -2.81863834e-02,\n",
       "       -1.67854514e-02,  3.47112816e-03,  1.91341976e-02,  2.24850604e-02,\n",
       "        3.76596409e-02,  4.47327323e-02,  3.76739242e-02,  3.74311081e-02,\n",
       "        4.52812111e-02,  6.09271406e-02,  5.68678260e-02,  8.76826227e-02,\n",
       "        8.70027375e-02,  6.98142114e-02,  7.60188780e-02,  8.06923745e-02,\n",
       "        6.08328708e-02,  3.78681771e-02,  7.35618643e-03, -3.07745178e-02,\n",
       "       -5.04369119e-02, -6.67884366e-02, -3.66449551e-02, -2.34243303e-02,\n",
       "       -5.39880266e-03,  4.75948204e-03, -9.39812734e-03, -1.63141024e-02,\n",
       "       -2.70751425e-02,  5.92214286e-03,  2.53617175e-02,  4.27530666e-02,\n",
       "        5.64993168e-02,  6.62176758e-02,  7.77557275e-02,  5.72049120e-02,\n",
       "        5.52852361e-02,  2.51703212e-02, -1.22776411e-02, -5.20252152e-02,\n",
       "       -8.84562064e-02, -1.16817132e-01, -1.32977260e-01, -1.12880654e-01,\n",
       "       -1.24990037e-01, -1.30554812e-01, -1.18488278e-01, -1.10129690e-01,\n",
       "       -1.02191030e-01, -9.97542986e-02, -9.06729749e-02, -6.80539372e-02,\n",
       "       -6.08208728e-02, -3.66849483e-02, -3.26913370e-02, -1.76424495e-02,\n",
       "       -2.18588804e-02, -1.30803627e-02, -1.69768476e-02,  1.07127625e-02,\n",
       "        2.80098418e-02,  1.62204039e-02, -1.93967247e-04, -1.96963884e-02,\n",
       "       -5.33478490e-02, -6.90280584e-02, -4.91257048e-02, -1.66797549e-02,\n",
       "       -7.60700122e-03,  4.37354721e-04, -8.86107517e-03, -1.51257316e-02,\n",
       "       -1.91367686e-03,  1.33894534e-02,  1.92656040e-02, -5.53592236e-03,\n",
       "       -1.36459815e-02,  9.25843665e-04,  1.28781112e-02,  8.99876621e-03,\n",
       "       -1.24461841e-02,  1.16640304e-02,  5.13601846e-02,  6.52521246e-02,\n",
       "        8.79368655e-02,  1.17220492e-01,  1.24604960e-01,  1.04365520e-01,\n",
       "        7.88326885e-02,  6.29525129e-02,  4.48841353e-02,  2.65100950e-02,\n",
       "        9.68150807e-03,  7.42474628e-03,  7.24192001e-03,  3.05948338e-04,\n",
       "        2.35934446e-02,  2.61015926e-02,  3.02380369e-02,  2.82983645e-02,\n",
       "        4.57468467e-02,  1.42464515e-02,  2.31306657e-02,  2.28678529e-02,\n",
       "        2.15623590e-02,  2.09481770e-02,  1.03185434e-02,  1.79543968e-02,\n",
       "        2.97609746e-02,  3.05436996e-02,  2.67243445e-02,  1.40207753e-02,\n",
       "       -1.05579315e-02, -2.49754970e-02, -3.26027805e-02, -4.50778169e-02,\n",
       "       -4.39408660e-02, -3.96530186e-02, -2.21988230e-02, -8.83536523e-03,\n",
       "       -2.36242966e-02, -2.53468629e-02, -3.13629898e-02, -4.39151560e-02,\n",
       "       -4.26553688e-02, -6.51344302e-02, -7.43757268e-02, -4.31667110e-02,\n",
       "       -2.32700707e-02, -7.68127439e-03, -1.87451205e-02, -3.02574622e-02,\n",
       "       -6.62570977e-02, -9.92915196e-02, -9.24612444e-02, -9.52693417e-02,\n",
       "       -8.67479234e-02, -7.77665828e-02, -9.58892370e-02, -9.42438005e-02,\n",
       "       -8.86847392e-02, -6.82996100e-02, -5.64530389e-02, -4.96484736e-02,\n",
       "       -5.01601015e-03,  1.41264718e-02,  1.69117158e-02,  7.41617630e-03,\n",
       "        3.82535406e-03, -4.23668461e-02, -8.52624600e-02, -1.29152192e-01,\n",
       "       -1.30626229e-01, -1.33574302e-01, -1.48957419e-01, -1.37285104e-01,\n",
       "       -1.47094876e-01, -1.43415498e-01, -9.96857388e-02, -6.06237632e-02,\n",
       "       -2.48640872e-02,  2.46532657e-02,  3.31718273e-02,  2.54302773e-02,\n",
       "        2.60587427e-02,  3.03780133e-02,  7.08766034e-03,  1.54776722e-02,\n",
       "       -2.45644236e-03,  1.70745454e-02,  1.64146568e-02,  3.13921278e-02,\n",
       "        4.92205459e-02,  6.24154607e-02,  5.58737082e-02,  3.92279475e-02,\n",
       "        2.36420079e-02,  1.64232268e-02, -5.75588522e-03, -4.55323115e-03,\n",
       "       -8.06406690e-03,  6.28208208e-03,  1.12098214e-02,  1.98969260e-02,\n",
       "        3.81566998e-02,  3.50286566e-02,  9.41583864e-03, -2.67780498e-02,\n",
       "       -6.93994243e-02, -4.72174556e-02, -6.85195728e-02, -6.66884535e-02,\n",
       "       -4.52063666e-02, -5.20823484e-02, -6.28662417e-02, -5.98324683e-02,\n",
       "       -7.41357674e-02, -6.04180837e-02, -3.52794714e-02, -1.64483654e-02,\n",
       "        2.39416716e-03,  2.13366829e-02,  4.23559907e-02,  6.68718511e-02,\n",
       "        8.25177806e-02,  3.63541471e-02, -7.60414456e-03, -8.54684252e-03,\n",
       "       -1.59741598e-02, -4.35523602e-02, -4.57434188e-02, -4.31609977e-02,\n",
       "       -3.53394613e-02, -3.41625171e-02, -2.35931590e-03,  2.71042804e-02,\n",
       "        4.04820215e-02,  4.97176048e-02,  4.35557882e-02,  3.46541484e-03,\n",
       "       -2.64212529e-03, -1.48086423e-02, -4.04528835e-02, -3.06316848e-02,\n",
       "       -2.77693110e-02, -1.85080176e-02, -8.81822527e-03, -2.16874808e-02,\n",
       "       -3.28513100e-02, -1.77195794e-02, -5.30167620e-03, -2.23933616e-03,\n",
       "        1.84657391e-02,  1.61604141e-02,  1.12412447e-02,  2.27450165e-02,\n",
       "        3.59713546e-02,  4.95119253e-02,  5.97387698e-02,  4.43727931e-02,\n",
       "        3.44573245e-02,  3.54400157e-02,  3.63884270e-02,  2.50503415e-02,\n",
       "        2.15652157e-02,  2.89182598e-02,  4.23702740e-02,  5.38683325e-02,\n",
       "        6.11013969e-02,  4.81435849e-02,  6.31524791e-02,  6.74146166e-02,\n",
       "        7.19767034e-02,  7.13910880e-02,  8.88167169e-02,  1.58553513e-01,\n",
       "        2.48009836e-01,  3.66424127e-01,  5.05160700e-01,  7.05721120e-01])"
      ]
     },
     "execution_count": 20,
     "metadata": {},
     "output_type": "execute_result"
    }
   ],
   "source": [
    "gv.dataset.autocorr(ew)"
   ]
  },
  {
   "cell_type": "code",
   "execution_count": 193,
   "id": "22057280-dd68-4dd7-92e1-a502723caa05",
   "metadata": {},
   "outputs": [
    {
     "data": {
      "text/plain": [
       "Text(0, 0.5, 'Magnetization')"
      ]
     },
     "execution_count": 193,
     "metadata": {},
     "output_type": "execute_result"
    },
    {
     "data": {
      "image/png": "[encoded data removed]",
      "text/plain": [
       "<Figure size 432x288 with 1 Axes>"
      ]
     },
     "metadata": {
      "needs_background": "light"
     },
     "output_type": "display_data"
    }
   ],
   "source": [
    "plt.plot(np.arange(len(mw)),mw,'bo')\n",
    "plt.errorbar(np.arange(len(mw)),mw, yerr=obs_average['M'].sdev/N, fmt='.b')\n",
    "plt.xlabel(\"Monte Carlo Time\")\n",
    "plt.ylabel(\"Magnetization\")"
   ]
  },
  {
   "cell_type": "code",
   "execution_count": 196,
   "id": "0a312bfa-6b29-4c2e-8b17-f294ab5bf5a5",
   "metadata": {},
   "outputs": [
    {
     "data": {
      "text/plain": [
       "Text(0, 0.5, 'Energy')"
      ]
     },
     "execution_count": 196,
     "metadata": {},
     "output_type": "execute_result"
    },
    {
     "data": {
      "image/png": "[encoded data removed]",
      "text/plain": [
       "<Figure size 432x288 with 1 Axes>"
      ]
     },
     "metadata": {
      "needs_background": "light"
     },
     "output_type": "display_data"
    }
   ],
   "source": [
    "plt.plot(np.arange(len(ew)),(ew),'ro')\n",
    "plt.errorbar(np.arange(len(ew)),ew, yerr=obs_average['Energy'].sdev/N, fmt='.r')\n",
    "plt.xlabel(\"Monte Carlo Time\")\n",
    "plt.ylabel(\"Energy\")"
   ]
  },
  {
   "cell_type": "code",
   "execution_count": 12,
   "id": "a36e99c5-aee8-4d20-b608-6b8ed656f1cc",
   "metadata": {},
   "outputs": [],
   "source": [
    "def temp_wolff():\n",
    "    beta = np.linspace(0.3,0.4,20)\n",
    "    e_list = np.zeros(len(beta))\n",
    "    m_list = np.zeros(len(beta))\n",
    "    chi_list = np.zeros(len(beta))\n",
    "    f1 = open('mc_energy.txt','a')\n",
    "    f2 = open('mc_magnetization.txt','a')\n",
    "    f3 = open('mc_distances.txt','a')\n",
    "    f4 = open('mc_ssc.txt','a')\n",
    "    for i in tqdm(range(len(beta))):\n",
    "        e,m,d,ssc = imported_wolff(build_lattice(),beta[i],10**4)\n",
    "        np.savetxt(f1,e)\n",
    "        np.savetxt(f2,m)\n",
    "        np.savetxt(f3,d)\n",
    "        np.savetxt(f4,ssc)\n",
    "        #e_list[i] = np.mean(e)\n",
    "        #m_list[i] = np.mean(np.abs(m))\n",
    "        #chi_list[i] = np.mean(m**2) - m_list[i]**2\n",
    "        \n",
    "    #return e_list,m_list,chi_list\n",
    "    f1.close()\n",
    "    f2.close()\n",
    "    f3.close()\n",
    "    f4.close()"
   ]
  },
  {
   "cell_type": "code",
   "execution_count": 13,
   "id": "53835584-c701-427f-999d-347d24e398bb",
   "metadata": {},
   "outputs": [
    {
     "name": "stderr",
     "output_type": "stream",
     "text": [
      "100%|██████████████████████████████████████████████████████████████████████████████████| 20/20 [20:32<00:00, 61.63s/it]\n"
     ]
    }
   ],
   "source": [
    "temp_wolff()"
   ]
  },
  {
   "cell_type": "code",
   "execution_count": 15,
   "id": "62331d2d-681e-4f14-a1af-011733fe3be3",
   "metadata": {},
   "outputs": [],
   "source": [
    "et = np.loadtxt('mc_energy.txt')"
   ]
  },
  {
   "cell_type": "code",
   "execution_count": 16,
   "id": "830f0464-48c0-440e-a3c8-59354fcd147e",
   "metadata": {},
   "outputs": [
    {
     "data": {
      "text/plain": [
       "array([-0.38, -0.82, -0.62, ..., -1.06, -0.98, -0.84])"
      ]
     },
     "execution_count": 16,
     "metadata": {},
     "output_type": "execute_result"
    }
   ],
   "source": [
    "et"
   ]
  },
  {
   "cell_type": "code",
   "execution_count": 197,
   "id": "6d42bcb1-d205-4a56-84fc-abba43ae23a2",
   "metadata": {},
   "outputs": [],
   "source": [
    "f=open('test.txt','r+')"
   ]
  },
  {
   "cell_type": "code",
   "execution_count": 198,
   "id": "a7b1261d-8817-4d1c-9be3-6e8251a41d04",
   "metadata": {},
   "outputs": [],
   "source": [
    "for i in range(3):\n",
    "    np.savetxt(f, et)"
   ]
  },
  {
   "cell_type": "code",
   "execution_count": 199,
   "id": "0b2ee0b6-2a0c-4cc7-9bbf-ed183e41f030",
   "metadata": {},
   "outputs": [],
   "source": [
    "f.close()\n",
    "#f=open('test.txt','r')\n",
    "#print(f.read(),\"\\n\")"
   ]
  },
  {
   "cell_type": "code",
   "execution_count": 138,
   "id": "297edfb8-c2d8-49a5-b251-aac4e1870713",
   "metadata": {},
   "outputs": [],
   "source": [
    "np.savetxt('test.txt', et)"
   ]
  },
  {
   "cell_type": "code",
   "execution_count": 136,
   "id": "256ed4cb-a0cd-41fe-bf1c-2eaa43ea4219",
   "metadata": {},
   "outputs": [
    {
     "data": {
      "text/plain": [
       "array([-1.1308 , -1.14366, -1.14796, -1.15876, -1.149  , -1.17256,\n",
       "       -1.17112, -1.18716, -1.1763 , -1.17502, -1.19086, -1.21514,\n",
       "       -1.21742, -1.22328, -1.21962, -1.23568, -1.25928, -1.2436 ,\n",
       "       -1.24164, -1.25186, -1.2626 , -1.28288, -1.28168, -1.29044,\n",
       "       -1.29086, -1.29502, -1.30468, -1.30782, -1.31228, -1.32628,\n",
       "       -1.33076, -1.33924, -1.33636, -1.3572 , -1.35456, -1.36442,\n",
       "       -1.36842, -1.36644, -1.37338, -1.39192])"
      ]
     },
     "execution_count": 136,
     "metadata": {},
     "output_type": "execute_result"
    }
   ],
   "source": [
    "et"
   ]
  },
  {
   "cell_type": "code",
   "execution_count": null,
   "id": "64db630c-182f-4697-a31c-841d9c141c1c",
   "metadata": {},
   "outputs": [],
   "source": []
  },
  {
   "cell_type": "code",
   "execution_count": 180,
   "id": "0033e8e7-33af-4007-b67d-e370dc4c6cc8",
   "metadata": {},
   "outputs": [
    {
     "data": {
      "text/plain": [
       "Text(0, 0.5, 'Susceptibility')"
      ]
     },
     "execution_count": 180,
     "metadata": {},
     "output_type": "execute_result"
    },
    {
     "data": {
      "image/png": "[encoded data removed]",
      "text/plain": [
       "<Figure size 432x288 with 1 Axes>"
      ]
     },
     "metadata": {
      "needs_background": "light"
     },
     "output_type": "display_data"
    }
   ],
   "source": [
    "plt.plot(np.linspace(0.41,0.45,40),ct,'ro')\n",
    "plt.xlabel(\"Monte Carlo Time\")\n",
    "plt.ylabel(\"Susceptibility\")"
   ]
  },
  {
   "cell_type": "code",
   "execution_count": 48,
   "id": "08e1a586-1f9f-4c1a-a81e-45b9ca45e140",
   "metadata": {},
   "outputs": [
    {
     "name": "stderr",
     "output_type": "stream",
     "text": [
      "100%|███████████████████████████████████████████████████████████████████████████████| 40/40 [1:25:49<00:00, 128.74s/it]\n"
     ]
    }
   ],
   "source": [
    "et40, mt40, ct40 = temp_wolff()"
   ]
  },
  {
   "cell_type": "code",
   "execution_count": 23,
   "id": "aba1d74f-fec6-4fe7-8a27-5e0a3aaac03e",
   "metadata": {},
   "outputs": [],
   "source": [
    "et50,mt50,ct50 = temp_wolff()"
   ]
  },
  {
   "cell_type": "code",
   "execution_count": 44,
   "id": "0bbf43cd-45dd-48d8-a5a4-1aeba39f2e3e",
   "metadata": {},
   "outputs": [
    {
     "name": "stderr",
     "output_type": "stream",
     "text": [
      "100%|███████████████████████████████████████████████████████████████████████████████| 20/20 [1:45:30<00:00, 316.51s/it]\n"
     ]
    }
   ],
   "source": [
    "et65,mt65,ct65 = temp_wolff()"
   ]
  },
  {
   "cell_type": "code",
   "execution_count": 182,
   "id": "4dacf92e-d83a-467a-a0de-8d35e727886e",
   "metadata": {},
   "outputs": [
    {
     "data": {
      "text/plain": [
       "Text(0, 0.5, 'Energy')"
      ]
     },
     "execution_count": 182,
     "metadata": {},
     "output_type": "execute_result"
    },
    {
     "data": {
      "image/png": "[encoded data removed]",
      "text/plain": [
       "<Figure size 432x288 with 1 Axes>"
      ]
     },
     "metadata": {
      "needs_background": "light"
     },
     "output_type": "display_data"
    }
   ],
   "source": [
    "plt.plot(np.linspace(0.2,0.6,40),et,'ro')\n",
    "plt.xlabel(\"Monte Carlo Time\")\n",
    "plt.ylabel(\"Energy\")"
   ]
  },
  {
   "cell_type": "code",
   "execution_count": 183,
   "id": "34b86260-99a7-4fa8-81af-ea62e710cd28",
   "metadata": {},
   "outputs": [
    {
     "data": {
      "text/plain": [
       "Text(0, 0.5, 'Magnetization')"
      ]
     },
     "execution_count": 183,
     "metadata": {},
     "output_type": "execute_result"
    },
    {
     "data": {
      "image/png": "[encoded data removed]",
      "text/plain": [
       "<Figure size 432x288 with 1 Axes>"
      ]
     },
     "metadata": {
      "needs_background": "light"
     },
     "output_type": "display_data"
    }
   ],
   "source": [
    "plt.plot(np.linspace(0.2,0.6,40),np.abs(mt),'ro')\n",
    "plt.xlabel(\"Monte Carlo Time\")\n",
    "plt.ylabel(\"Magnetization\")"
   ]
  },
  {
   "cell_type": "code",
   "execution_count": 15,
   "id": "b878b2c3-a1ec-45bd-9424-f0777c7742e6",
   "metadata": {},
   "outputs": [
    {
     "data": {
      "text/plain": [
       "[<matplotlib.lines.Line2D at 0x1b8c610b910>]"
      ]
     },
     "execution_count": 15,
     "metadata": {},
     "output_type": "execute_result"
    },
    {
     "data": {
      "image/png": "[encoded data removed]",
      "text/plain": [
       "<Figure size 432x288 with 1 Axes>"
      ]
     },
     "metadata": {
      "needs_background": "light"
     },
     "output_type": "display_data"
    }
   ],
   "source": [
    "plt.plot(np.linspace(0.4,0.45,40),ct,'ro') #30 x 30 lattice"
   ]
  },
  {
   "cell_type": "code",
   "execution_count": 49,
   "id": "dd713284-197a-4321-ad89-26e8a4b1cafb",
   "metadata": {},
   "outputs": [
    {
     "data": {
      "text/plain": [
       "[<matplotlib.lines.Line2D at 0x1b8c6564e20>]"
      ]
     },
     "execution_count": 49,
     "metadata": {},
     "output_type": "execute_result"
    },
    {
     "data": {
      "image/png": "[encoded data removed]",
      "text/plain": [
       "<Figure size 432x288 with 1 Axes>"
      ]
     },
     "metadata": {
      "needs_background": "light"
     },
     "output_type": "display_data"
    }
   ],
   "source": [
    "plt.plot(np.linspace(0.41,0.45,40),ct40,'ro')"
   ]
  },
  {
   "cell_type": "code",
   "execution_count": 24,
   "id": "c7fbfeea-c66b-4432-b1cd-8efc56f2ef33",
   "metadata": {},
   "outputs": [
    {
     "data": {
      "text/plain": [
       "[<matplotlib.lines.Line2D at 0x1b8c63561f0>]"
      ]
     },
     "execution_count": 24,
     "metadata": {},
     "output_type": "execute_result"
    },
    {
     "data": {
      "image/png": "[encoded data removed]",
      "text/plain": [
       "<Figure size 432x288 with 1 Axes>"
      ]
     },
     "metadata": {
      "needs_background": "light"
     },
     "output_type": "display_data"
    }
   ],
   "source": [
    "plt.plot(np.linspace(0.41,0.45,40),ct50,'ro')"
   ]
  },
  {
   "cell_type": "code",
   "execution_count": 33,
   "id": "596956b6-de94-4ddb-9be2-9f7bbd66672b",
   "metadata": {},
   "outputs": [
    {
     "data": {
      "text/plain": [
       "[<matplotlib.lines.Line2D at 0x1b8c645a2e0>]"
      ]
     },
     "execution_count": 33,
     "metadata": {},
     "output_type": "execute_result"
    },
    {
     "data": {
      "image/png": "[encoded data removed]",
      "text/plain": [
       "<Figure size 432x288 with 1 Axes>"
      ]
     },
     "metadata": {
      "needs_background": "light"
     },
     "output_type": "display_data"
    }
   ],
   "source": [
    "plt.plot(np.linspace(0.425,0.445,30),ct65,'ro')"
   ]
  },
  {
   "cell_type": "code",
   "execution_count": null,
   "id": "5b1814d1-20ed-4c4f-bd1a-20e1b89cb427",
   "metadata": {},
   "outputs": [],
   "source": [
    "5"
   ]
  },
  {
   "cell_type": "code",
   "execution_count": 28,
   "id": "350c0e27-53ad-4a68-8542-10a132a256c8",
   "metadata": {},
   "outputs": [
    {
     "data": {
      "text/plain": [
       "(0.428, 0.442)"
      ]
     },
     "execution_count": 28,
     "metadata": {},
     "output_type": "execute_result"
    },
    {
     "data": {
      "image/png": "[encoded data removed]",
      "text/plain": [
       "<Figure size 432x288 with 1 Axes>"
      ]
     },
     "metadata": {
      "needs_background": "light"
     },
     "output_type": "display_data"
    }
   ],
   "source": [
    "plt.plot([1/50,1/40,1/30],[.434, .433, .4280])\n",
    "plt.xlim([0,.034])\n",
    "plt.ylim([.428,.442])"
   ]
  },
  {
   "cell_type": "code",
   "execution_count": null,
   "id": "f79af18a-bdbe-48f6-9b88-18957e47fa20",
   "metadata": {},
   "outputs": [],
   "source": [
    "def mc_wolff(lattice, beta, nsteps):\n",
    "    lattice = lattice.copy()\n",
    "    p_accept = 1.0 - np.exp(-2*beta)\n",
    "    for n in range(nsteps):        \n",
    "        i,j = tuple(rng.integers(len(lattice), size = 2))\n",
    "        init_spin = lattice[i,j]\n",
    "        cluster = np.array([])\n",
    "        while 1:\n",
    "            if lattice[i-1,j]==init_spin and not np.any("
   ]
  }
 ],
 "metadata": {
  "kernelspec": {
   "display_name": "Python 3 (ipykernel)",
   "language": "python",
   "name": "python3"
  },
  "language_info": {
   "codemirror_mode": {
    "name": "ipython",
    "version": 3
   },
   "file_extension": ".py",
   "mimetype": "text/x-python",
   "name": "python",
   "nbconvert_exporter": "python",
   "pygments_lexer": "ipython3",
   "version": "3.9.6"
  }
 },
 "nbformat": 4,
 "nbformat_minor": 5
}
