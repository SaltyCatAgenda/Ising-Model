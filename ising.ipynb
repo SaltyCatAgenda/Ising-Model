{
 "cells": [
  {
   "cell_type": "code",
   "execution_count": 3,
   "id": "d5d6189f-db21-4756-ad23-76e9a0090364",
   "metadata": {},
   "outputs": [],
   "source": [
    "import numpy as np\n",
    "import matplotlib.pyplot as plt\n",
    "rng = np.random.default_rng()"
   ]
  },
  {
   "cell_type": "code",
   "execution_count": 4,
   "id": "7a953d70-f145-4dfa-8245-9ab0ae440cac",
   "metadata": {},
   "outputs": [],
   "source": [
    "J = 1"
   ]
  },
  {
   "cell_type": "code",
   "execution_count": 5,
   "id": "cad0ac33-5157-48ba-9b0e-7614f8bb3505",
   "metadata": {},
   "outputs": [],
   "source": [
    "def build_lattice(n=0,m=0):\n",
    "    N_lat = 20\n",
    "    spin_select = np.array([-1,1])\n",
    "    #lattice = rng.choice(spin_select, (n,m), p =[0.5,0.5])    \n",
    "    lattice = rng.choice(spin_select, (N_lat,N_lat), p =[0.5,0.5])\n",
    "    return lattice"
   ]
  },
  {
   "cell_type": "code",
   "execution_count": 6,
   "id": "08cf6592-98cb-45f5-bc6f-5f4c956cdaae",
   "metadata": {},
   "outputs": [],
   "source": [
    "def Energy(lattice:np.ndarray)->int:\n",
    "    nmax = len(lattice)\n",
    "    spin_bonds = 0\n",
    "    for i in range(nmax):\n",
    "        for j in range(nmax):\n",
    "            s_ij = lattice[i,j]\n",
    "            if j<nmax-1:\n",
    "                s_right = lattice[i, j+1] #right neighbor\n",
    "            else:\n",
    "                s_right = 0 #right edge of lattice\n",
    "            if i<nmax-1:\n",
    "                s_down = lattice[i+1,j] #bottom neighbor\n",
    "            else:\n",
    "                s_down = 0 # bottom edge of lattice\n",
    "            spin_bonds += s_ij * (s_right + s_down)\n",
    "    \n",
    "    E = (-J) * spin_bonds\n",
    "    return E"
   ]
  },
  {
   "cell_type": "code",
   "execution_count": 7,
   "id": "07e5413f-9fe2-4632-9d1c-0385a5a3b1f0",
   "metadata": {},
   "outputs": [],
   "source": [
    "def flip_energy(lattice:np.ndarray, flip_location:tuple)->int:\n",
    "    nmax = len(lattice)\n",
    "    i,j = flip_location\n",
    "    s_ij = lattice[i,j]\n",
    "    \n",
    "    s_up = lattice[abs(i-1),j] * (i!=0)\n",
    "    s_down = lattice[(i+1)%nmax,j] * (i!=nmax)   \n",
    "    s_left = lattice[i,abs(j-1)] * (j!=0)\n",
    "    s_right = lattice[i,(j+1)%nmax] * (j!=nmax)\n",
    "   \n",
    "    neighbors = (s_up + s_down + s_left + s_right)\n",
    "    flipped_sum = -1 * s_ij * neighbors  # flips the spin\n",
    "    initial_sum = s_ij * neighbors\n",
    "    dE = (-J) * (flipped_sum - initial_sum)\n",
    "    return dE"
   ]
  },
  {
   "cell_type": "code",
   "execution_count": 8,
   "id": "96d027bd-bc27-4259-8e3f-db2618d78747",
   "metadata": {},
   "outputs": [],
   "source": [
    "def magnetization(lattice:np.ndarray)->int:\n",
    "    m = lattice.sum()\n",
    "    return m"
   ]
  },
  {
   "cell_type": "code",
   "execution_count": 200,
   "id": "0b9b9d84-08f5-48b6-abaa-c02ae64b5aae",
   "metadata": {},
   "outputs": [
    {
     "data": {
      "text/plain": [
       "1"
      ]
     },
     "execution_count": 200,
     "metadata": {},
     "output_type": "execute_result"
    }
   ],
   "source": [
    "magnetization(test1)"
   ]
  },
  {
   "cell_type": "code",
   "execution_count": 198,
   "id": "3e3d210f-58c2-4f89-8fcd-3840e8674c4d",
   "metadata": {},
   "outputs": [
    {
     "data": {
      "text/plain": [
       "-4"
      ]
     },
     "execution_count": 198,
     "metadata": {},
     "output_type": "execute_result"
    }
   ],
   "source": [
    "flip_energy(test1,(0,0))"
   ]
  },
  {
   "cell_type": "code",
   "execution_count": 199,
   "id": "34aae2c8-f5a7-4f06-ac98-c12279c2bcdb",
   "metadata": {},
   "outputs": [
    {
     "data": {
      "text/plain": [
       "-4"
      ]
     },
     "execution_count": 199,
     "metadata": {},
     "output_type": "execute_result"
    }
   ],
   "source": [
    "Energy(test3) - Energy(test1)"
   ]
  },
  {
   "cell_type": "code",
   "execution_count": 71,
   "id": "636aa6c9-2414-4c98-8d6c-724a1910c82c",
   "metadata": {},
   "outputs": [
    {
     "data": {
      "text/plain": [
       "array([[ 1, -1, -1],\n",
       "       [-1,  1,  1],\n",
       "       [ 1, -1,  1]])"
      ]
     },
     "execution_count": 71,
     "metadata": {},
     "output_type": "execute_result"
    }
   ],
   "source": [
    "test1 = build_lattice()\n",
    "test1"
   ]
  },
  {
   "cell_type": "code",
   "execution_count": 86,
   "id": "d69462d6-6424-4ffd-bd10-91bd69363dcc",
   "metadata": {},
   "outputs": [
    {
     "data": {
      "text/plain": [
       "array([[ 1, -1, -1],\n",
       "       [-1, -1,  1],\n",
       "       [ 1, -1,  1]])"
      ]
     },
     "execution_count": 86,
     "metadata": {},
     "output_type": "execute_result"
    }
   ],
   "source": [
    "test2 = np.array([[1,-1,-1],[-1,-1,1],[1,-1,1]]) # test1 with flip\n",
    "test2"
   ]
  },
  {
   "cell_type": "code",
   "execution_count": 89,
   "id": "97958f57-b8ba-44ab-b0a8-9701408b784f",
   "metadata": {},
   "outputs": [
    {
     "data": {
      "text/plain": [
       "array([[-1, -1, -1],\n",
       "       [-1,  1,  1],\n",
       "       [ 1, -1,  1]])"
      ]
     },
     "execution_count": 89,
     "metadata": {},
     "output_type": "execute_result"
    }
   ],
   "source": [
    "test3 = np.array([[-1,-1,-1],[-1,1,1],[1,-1,1]]) # test1 with flip \n",
    "test3"
   ]
  },
  {
   "cell_type": "code",
   "execution_count": 202,
   "id": "9e6329f7-d3db-4f1e-a43d-062e80c7c2c1",
   "metadata": {},
   "outputs": [],
   "source": [
    "test10 = build_lattice()"
   ]
  },
  {
   "cell_type": "code",
   "execution_count": 9,
   "id": "9c0b3587-b146-43bf-8ca1-30271a04f464",
   "metadata": {},
   "outputs": [],
   "source": [
    "test20 = build_lattice()"
   ]
  },
  {
   "cell_type": "code",
   "execution_count": 10,
   "id": "b58e68cf-5130-4626-b5ce-2b3f5fb6a011",
   "metadata": {},
   "outputs": [],
   "source": [
    "def mcmc(lattice, beta, nflips, nsteps):\n",
    "    lattice = lattice.copy()\n",
    "    energy = Energy(lattice)\n",
    "    av_energy = np.zeros(nsteps)\n",
    "    av_mag = np.zeros(nsteps)\n",
    "    for step in range(nsteps):\n",
    "        for flip in range(nflips):\n",
    "            flip_location = tuple(rng.integers(len(lattice),size=2))\n",
    "            flip_dE = flip_energy(lattice,flip_location)\n",
    "            if (np.exp(-beta*flip_dE)>rng.random()):\n",
    "                lattice[flip_location] = -1 * lattice[flip_location]\n",
    "                energy += flip_dE\n",
    "            #elif (flip_dE<0):\n",
    "                #lattice[flip_location] = -1 * lattice[flip_location]\n",
    "                #energy += flip_dE                \n",
    "        # record energy and magnetization\n",
    "        av_energy[step] = energy\n",
    "        av_mag[step] = magnetization(lattice)\n",
    "        \n",
    "    return av_energy, av_mag"
   ]
  },
  {
   "cell_type": "code",
   "execution_count": 194,
   "id": "d03efa76-027f-4987-90f3-a5ff136d40a5",
   "metadata": {},
   "outputs": [],
   "source": [
    "e1, m1 = mcmc(test1, 1.1, 100000, 20)"
   ]
  },
  {
   "cell_type": "code",
   "execution_count": 212,
   "id": "10bef21e-3b29-4799-9233-d03de4e196cc",
   "metadata": {},
   "outputs": [],
   "source": [
    "e10, m10 = mcmc(test10 , .2, 100000, 20)"
   ]
  },
  {
   "cell_type": "code",
   "execution_count": 2,
   "id": "82999710-da49-4887-9cd1-cda4f423c448",
   "metadata": {},
   "outputs": [],
   "source": [
    "import time"
   ]
  },
  {
   "cell_type": "code",
   "execution_count": 11,
   "id": "f29ca66e-3efc-44c4-846b-a320eb737194",
   "metadata": {},
   "outputs": [],
   "source": [
    "start = time.time()\n",
    "e20, m20 = mcmc(test20 , .8, 100000, 20)\n",
    "end = time.time()\n",
    "elapsed_time = end - start"
   ]
  },
  {
   "cell_type": "code",
   "execution_count": 12,
   "id": "0c87fc81-8145-41e2-9d5c-f65118c6c637",
   "metadata": {},
   "outputs": [
    {
     "data": {
      "text/plain": [
       "18.786901712417603"
      ]
     },
     "execution_count": 12,
     "metadata": {},
     "output_type": "execute_result"
    }
   ],
   "source": [
    "elapsed_time"
   ]
  },
  {
   "cell_type": "code",
   "execution_count": 207,
   "id": "b7abd90f-a055-4ea9-ba4d-83faeaffa809",
   "metadata": {},
   "outputs": [
    {
     "data": {
      "text/plain": [
       "array([-254., -302., -310., -330., -354., -362., -398., -430., -406.,\n",
       "       -446., -458., -482., -474., -502., -510., -526., -562., -574.,\n",
       "       -586., -622.])"
      ]
     },
     "execution_count": 207,
     "metadata": {},
     "output_type": "execute_result"
    }
   ],
   "source": [
    "e10"
   ]
  },
  {
   "cell_type": "code",
   "execution_count": 208,
   "id": "b08e55ef-25e1-422f-b833-8f29cfdbb704",
   "metadata": {},
   "outputs": [
    {
     "data": {
      "text/plain": [
       "array([ 96., 100.,  96., 100., 100., 100., 100., 100.,  88.,  96.,  96.,\n",
       "       100.,  92., 100.,  92.,  98., 100., 100., 100.,  96.])"
      ]
     },
     "execution_count": 208,
     "metadata": {},
     "output_type": "execute_result"
    }
   ],
   "source": [
    "m10"
   ]
  },
  {
   "cell_type": "code",
   "execution_count": 175,
   "id": "92f573f6-fc11-4b52-b6e1-0ddcb8021ac2",
   "metadata": {
    "tags": []
   },
   "outputs": [],
   "source": [
    "tsteps = np.arange(20)"
   ]
  },
  {
   "cell_type": "code",
   "execution_count": 218,
   "id": "a77a4c49-bdc6-47c7-869d-bf335c74da57",
   "metadata": {},
   "outputs": [
    {
     "data": {
      "text/plain": [
       "<matplotlib.collections.PathCollection at 0x1e726489fa0>"
      ]
     },
     "execution_count": 218,
     "metadata": {},
     "output_type": "execute_result"
    },
    {
     "data": {
      "image/png": "[encoded data removed]",
      "text/plain": [
       "<Figure size 432x288 with 1 Axes>"
      ]
     },
     "metadata": {
      "needs_background": "light"
     },
     "output_type": "display_data"
    }
   ],
   "source": [
    "plt.scatter(tsteps,e20)"
   ]
  },
  {
   "cell_type": "code",
   "execution_count": 219,
   "id": "0919f755-6e23-4454-8f7d-63433363d5f8",
   "metadata": {},
   "outputs": [
    {
     "data": {
      "text/plain": [
       "<matplotlib.collections.PathCollection at 0x1e72632c550>"
      ]
     },
     "execution_count": 219,
     "metadata": {},
     "output_type": "execute_result"
    },
    {
     "data": {
      "image/png": "[encoded data removed]",
      "text/plain": [
       "<Figure size 432x288 with 1 Axes>"
      ]
     },
     "metadata": {
      "needs_background": "light"
     },
     "output_type": "display_data"
    }
   ],
   "source": [
    "plt.scatter(tsteps,m20)"
   ]
  },
  {
   "cell_type": "code",
   "execution_count": null,
   "id": "6e5ddfef-56ff-4319-a326-437f391e6d9b",
   "metadata": {},
   "outputs": [],
   "source": []
  }
 ],
 "metadata": {
  "kernelspec": {
   "display_name": "Python 3 (ipykernel)",
   "language": "python",
   "name": "python3"
  },
  "language_info": {
   "codemirror_mode": {
    "name": "ipython",
    "version": 3
   },
   "file_extension": ".py",
   "mimetype": "text/x-python",
   "name": "python",
   "nbconvert_exporter": "python",
   "pygments_lexer": "ipython3",
   "version": "3.9.6"
  }
 },
 "nbformat": 4,
 "nbformat_minor": 5
}
